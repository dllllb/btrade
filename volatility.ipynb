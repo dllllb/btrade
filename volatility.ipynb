{
 "metadata": {
  "language_info": {
   "codemirror_mode": {
    "name": "ipython",
    "version": 3
   },
   "file_extension": ".py",
   "mimetype": "text/x-python",
   "name": "python",
   "nbconvert_exporter": "python",
   "pygments_lexer": "ipython3",
   "version": "3.8.8-final"
  },
  "orig_nbformat": 2,
  "kernelspec": {
   "name": "python3",
   "display_name": "Python 3.8.8 64-bit ('btrade': pipenv)",
   "metadata": {
    "interpreter": {
     "hash": "4add46ac46e37a25057a0e0b118c93150b3286d6ab5eed48ad7a494b2b085fd2"
    }
   }
  }
 },
 "nbformat": 4,
 "nbformat_minor": 2,
 "cells": [
  {
   "cell_type": "code",
   "execution_count": 2,
   "metadata": {},
   "outputs": [],
   "source": [
    "import pandas as pd\n",
    "from datetime import timedelta\n",
    "\n",
    "import pandas_datareader as pdr\n",
    "\n",
    "import requests_cache\n",
    "session = requests_cache.CachedSession(cache_name='stocks-cache', backend='sqlite')"
   ]
  },
  {
   "cell_type": "code",
   "execution_count": 10,
   "metadata": {},
   "outputs": [
    {
     "output_type": "execute_result",
     "data": {
      "text/plain": [
       "             mean       std      p.01      p.99\n",
       "symbol                                         \n",
       "BTC-USD  0.258880  0.587634 -0.497018  2.595309\n",
       "GC=F     0.039592  0.090954 -0.180046  0.272530\n",
       "^GSPC    0.019329  0.094216 -0.300841  0.231650\n",
       "^IXIC    0.025657  0.131165 -0.357939  0.325765\n",
       "BNDW     0.018898  0.020064 -0.028540  0.060806\n",
       "VWOB     0.002872  0.045376 -0.120710  0.141999\n",
       "VTC      0.014760  0.041089 -0.065122  0.136969"
      ],
      "text/html": "<div>\n<style scoped>\n    .dataframe tbody tr th:only-of-type {\n        vertical-align: middle;\n    }\n\n    .dataframe tbody tr th {\n        vertical-align: top;\n    }\n\n    .dataframe thead th {\n        text-align: right;\n    }\n</style>\n<table border=\"1\" class=\"dataframe\">\n  <thead>\n    <tr style=\"text-align: right;\">\n      <th></th>\n      <th>mean</th>\n      <th>std</th>\n      <th>p.01</th>\n      <th>p.99</th>\n    </tr>\n    <tr>\n      <th>symbol</th>\n      <th></th>\n      <th></th>\n      <th></th>\n      <th></th>\n    </tr>\n  </thead>\n  <tbody>\n    <tr>\n      <th>BTC-USD</th>\n      <td>0.258880</td>\n      <td>0.587634</td>\n      <td>-0.497018</td>\n      <td>2.595309</td>\n    </tr>\n    <tr>\n      <th>GC=F</th>\n      <td>0.039592</td>\n      <td>0.090954</td>\n      <td>-0.180046</td>\n      <td>0.272530</td>\n    </tr>\n    <tr>\n      <th>^GSPC</th>\n      <td>0.019329</td>\n      <td>0.094216</td>\n      <td>-0.300841</td>\n      <td>0.231650</td>\n    </tr>\n    <tr>\n      <th>^IXIC</th>\n      <td>0.025657</td>\n      <td>0.131165</td>\n      <td>-0.357939</td>\n      <td>0.325765</td>\n    </tr>\n    <tr>\n      <th>BNDW</th>\n      <td>0.018898</td>\n      <td>0.020064</td>\n      <td>-0.028540</td>\n      <td>0.060806</td>\n    </tr>\n    <tr>\n      <th>VWOB</th>\n      <td>0.002872</td>\n      <td>0.045376</td>\n      <td>-0.120710</td>\n      <td>0.141999</td>\n    </tr>\n    <tr>\n      <th>VTC</th>\n      <td>0.014760</td>\n      <td>0.041089</td>\n      <td>-0.065122</td>\n      <td>0.136969</td>\n    </tr>\n  </tbody>\n</table>\n</div>"
     },
     "metadata": {},
     "execution_count": 10
    }
   ],
   "source": [
    "symbols = ['BTC-USD', 'GC=F', '^GSPC', '^IXIC', 'BNDW', 'VWOB', 'VTC']\n",
    "\n",
    "data = {}\n",
    "for sym in symbols:\n",
    "    ts = pdr.DataReader(\n",
    "        sym,\n",
    "        start='2000-01-01',\n",
    "        end='2020-10-10',\n",
    "        data_source='yahoo',\n",
    "        session=session\n",
    "    ).Close\n",
    "    data[sym] = ts\n",
    "\n",
    "ranges = []\n",
    "for sym, ts in data.items():\n",
    "    diffs = ts.pct_change(90)[90:]\n",
    "    ranges.append((sym, diffs.mean(), diffs.std(), diffs.quantile(.01), diffs.quantile(.99)))\n",
    "\n",
    "pd.DataFrame(ranges, columns=['symbol', 'mean', 'std', 'p.01', 'p.99']).set_index('symbol')"
   ]
  },
  {
   "cell_type": "code",
   "execution_count": null,
   "metadata": {},
   "outputs": [],
   "source": []
  }
 ]
}