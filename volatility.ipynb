{
 "metadata": {
  "language_info": {
   "codemirror_mode": {
    "name": "ipython",
    "version": 3
   },
   "file_extension": ".py",
   "mimetype": "text/x-python",
   "name": "python",
   "nbconvert_exporter": "python",
   "pygments_lexer": "ipython3",
   "version": "3.8.8-final"
  },
  "orig_nbformat": 2,
  "kernelspec": {
   "name": "python3",
   "display_name": "Python 3.8.8 64-bit ('btrade': pipenv)",
   "metadata": {
    "interpreter": {
     "hash": "4add46ac46e37a25057a0e0b118c93150b3286d6ab5eed48ad7a494b2b085fd2"
    }
   }
  }
 },
 "nbformat": 4,
 "nbformat_minor": 2,
 "cells": [
  {
   "cell_type": "code",
   "execution_count": 17,
   "metadata": {},
   "outputs": [
    {
     "output_type": "execute_result",
     "data": {
      "text/plain": [
       "             mean       std      p.01       p.99\n",
       "symbol                                          \n",
       "BTC-USD  2.010657  3.435328 -0.753969  16.586330\n",
       "GC=F     0.167667  0.207953 -0.248471   0.596854\n",
       "^GSPC    0.082707  0.196766 -0.442338   0.387722\n",
       "^IXIC    0.120855  0.268009 -0.559108   0.621944\n",
       "BNDW     0.076445  0.012104  0.029157   0.091041\n",
       "VWOB     0.003255  0.048320 -0.089289   0.101242\n",
       "VTC      0.084325  0.046511 -0.017367   0.151482\n",
       "FXRU     0.210783  0.271136 -0.135449   1.170703"
      ],
      "text/html": "<div>\n<style scoped>\n    .dataframe tbody tr th:only-of-type {\n        vertical-align: middle;\n    }\n\n    .dataframe tbody tr th {\n        vertical-align: top;\n    }\n\n    .dataframe thead th {\n        text-align: right;\n    }\n</style>\n<table border=\"1\" class=\"dataframe\">\n  <thead>\n    <tr style=\"text-align: right;\">\n      <th></th>\n      <th>mean</th>\n      <th>std</th>\n      <th>p.01</th>\n      <th>p.99</th>\n    </tr>\n    <tr>\n      <th>symbol</th>\n      <th></th>\n      <th></th>\n      <th></th>\n      <th></th>\n    </tr>\n  </thead>\n  <tbody>\n    <tr>\n      <th>BTC-USD</th>\n      <td>2.010657</td>\n      <td>3.435328</td>\n      <td>-0.753969</td>\n      <td>16.586330</td>\n    </tr>\n    <tr>\n      <th>GC=F</th>\n      <td>0.167667</td>\n      <td>0.207953</td>\n      <td>-0.248471</td>\n      <td>0.596854</td>\n    </tr>\n    <tr>\n      <th>^GSPC</th>\n      <td>0.082707</td>\n      <td>0.196766</td>\n      <td>-0.442338</td>\n      <td>0.387722</td>\n    </tr>\n    <tr>\n      <th>^IXIC</th>\n      <td>0.120855</td>\n      <td>0.268009</td>\n      <td>-0.559108</td>\n      <td>0.621944</td>\n    </tr>\n    <tr>\n      <th>BNDW</th>\n      <td>0.076445</td>\n      <td>0.012104</td>\n      <td>0.029157</td>\n      <td>0.091041</td>\n    </tr>\n    <tr>\n      <th>VWOB</th>\n      <td>0.003255</td>\n      <td>0.048320</td>\n      <td>-0.089289</td>\n      <td>0.101242</td>\n    </tr>\n    <tr>\n      <th>VTC</th>\n      <td>0.084325</td>\n      <td>0.046511</td>\n      <td>-0.017367</td>\n      <td>0.151482</td>\n    </tr>\n    <tr>\n      <th>FXRU</th>\n      <td>0.210783</td>\n      <td>0.271136</td>\n      <td>-0.135449</td>\n      <td>1.170703</td>\n    </tr>\n  </tbody>\n</table>\n</div>"
     },
     "metadata": {},
     "execution_count": 17
    }
   ],
   "source": [
    "import pandas as pd\n",
    "from datetime import timedelta\n",
    "\n",
    "import pandas_datareader as pdr\n",
    "\n",
    "import requests_cache\n",
    "session = requests_cache.CachedSession(cache_name='stocks-cache', backend='sqlite')\n",
    "\n",
    "symbols = ['BTC-USD', 'GC=F', '^GSPC', '^IXIC', 'BNDW', 'VWOB', 'VTC']\n",
    "\n",
    "data = {}\n",
    "for sym in symbols:\n",
    "    ts = pdr.DataReader(\n",
    "        sym,\n",
    "        start='2000-01-01',\n",
    "        end='2020-10-10',\n",
    "        data_source='yahoo',\n",
    "        session=session\n",
    "    ).Close\n",
    "    data[sym] = ts\n",
    "\n",
    "ts = pdr.DataReader(\n",
    "    'FXRU',\n",
    "    start='2014-01-01',\n",
    "    end='2021-03-01',\n",
    "    data_source='moex',\n",
    "    session=session\n",
    ")\n",
    "ts = ts[ts.BOARDID == 'TQTF'].CLOSE\n",
    "ts[ts > 3000] = ts[ts > 3000]/10\n",
    "data['FXRU'] = ts\n",
    "\n",
    "ranges = []\n",
    "for sym, ts in data.items():\n",
    "    diffs = ts.pct_change(365)\n",
    "    ranges.append((sym, diffs.mean(), diffs.std(), diffs.quantile(.01), diffs.quantile(.99)))\n",
    "\n",
    "pd.DataFrame(ranges, columns=['symbol', 'mean', 'std', 'p.01', 'p.99']).set_index('symbol')"
   ]
  },
  {
   "cell_type": "code",
   "execution_count": null,
   "metadata": {},
   "outputs": [],
   "source": []
  }
 ]
}