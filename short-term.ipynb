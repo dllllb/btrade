{
 "metadata": {
  "language_info": {
   "codemirror_mode": {
    "name": "ipython",
    "version": 3
   },
   "file_extension": ".py",
   "mimetype": "text/x-python",
   "name": "python",
   "nbconvert_exporter": "python",
   "pygments_lexer": "ipython3",
   "version": "3.8.8-final"
  },
  "orig_nbformat": 2,
  "kernelspec": {
   "name": "python3",
   "display_name": "Python 3.8.8 64-bit ('btrade': pipenv)",
   "metadata": {
    "interpreter": {
     "hash": "4add46ac46e37a25057a0e0b118c93150b3286d6ab5eed48ad7a494b2b085fd2"
    }
   }
  }
 },
 "nbformat": 4,
 "nbformat_minor": 2,
 "cells": [
  {
   "cell_type": "code",
   "execution_count": 1,
   "metadata": {},
   "outputs": [],
   "source": [
    "import pandas as pd\n",
    "import numpy as np"
   ]
  },
  {
   "cell_type": "code",
   "execution_count": 2,
   "metadata": {},
   "outputs": [],
   "source": [
    "ohlcv = pd.read_csv('binance-btc-usdc.csv.gz', index_col='dt')"
   ]
  },
  {
   "cell_type": "code",
   "execution_count": 3,
   "metadata": {},
   "outputs": [],
   "source": [
    "cdiff = ohlcv.close.pct_change().fillna(0)\n",
    "dir = pd.Series(0, index=ohlcv.index)\n",
    "dir[cdiff > .001] = 1\n",
    "dir[cdiff < -.001] = 2\n",
    "ohlcv['dir'] = dir.shift(-1)\n",
    "ohlcv = ohlcv.iloc[:-1]\n",
    "ohlcv.dir = ohlcv.dir.astype(int)"
   ]
  },
  {
   "cell_type": "code",
   "execution_count": 4,
   "metadata": {},
   "outputs": [],
   "source": [
    "ohlcv_h = pd.concat((ohlcv, ohlcv.shift(1).add_prefix('p_'), ohlcv.shift(2).add_prefix('pp_')), axis=1)\n",
    "ohlcv_h = ohlcv_h.iloc[2:]\n",
    "ohlcv_h.dir = ohlcv_h.dir.astype(int)"
   ]
  },
  {
   "cell_type": "code",
   "execution_count": 5,
   "metadata": {},
   "outputs": [],
   "source": [
    "train = ohlcv_h.loc[:'2020-02-01']\n",
    "test = ohlcv_h.loc['2020-02-01':]"
   ]
  },
  {
   "cell_type": "code",
   "execution_count": 6,
   "metadata": {},
   "outputs": [
    {
     "output_type": "execute_result",
     "data": {
      "text/plain": [
       "0.5749037245205024"
      ]
     },
     "metadata": {},
     "execution_count": 6
    }
   ],
   "source": [
    "import lightgbm as lgb\n",
    "gbm = lgb.LGBMClassifier(learning_rate=0.005, n_estimators=200)\n",
    "gbm.fit(train.drop(columns='dir'), train.dir)\n",
    "pred = gbm.predict_proba(test.drop(columns='dir'))\n",
    "\n",
    "from sklearn.metrics import roc_auc_score\n",
    "roc_auc_score(test.dir, pred, multi_class='ovo', average='weighted')"
   ]
  },
  {
   "cell_type": "code",
   "execution_count": 65,
   "metadata": {},
   "outputs": [
    {
     "output_type": "execute_result",
     "data": {
      "text/plain": [
       "2.074305364926968"
      ]
     },
     "metadata": {},
     "execution_count": 65
    }
   ],
   "source": [
    "actions = pred.argmax(axis=1)\n",
    "scales = 1+((test.close.shift(-1) - test.close)/test.close).fillna(0)\n",
    "\n",
    "long = scales[actions==1].prod()\n",
    "short = (1/scales[actions==2]).prod()\n",
    "\n",
    "# long if 1, short if 2 cash if 0, no commissions\n",
    "long*short"
   ]
  },
  {
   "cell_type": "code",
   "execution_count": null,
   "metadata": {},
   "outputs": [],
   "source": []
  }
 ]
}