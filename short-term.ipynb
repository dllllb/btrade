{
 "metadata": {
  "language_info": {
   "codemirror_mode": {
    "name": "ipython",
    "version": 3
   },
   "file_extension": ".py",
   "mimetype": "text/x-python",
   "name": "python",
   "nbconvert_exporter": "python",
   "pygments_lexer": "ipython3",
   "version": "3.8.8-final"
  },
  "orig_nbformat": 2,
  "kernelspec": {
   "name": "python3",
   "display_name": "Python 3.8.8 64-bit ('btrade': pipenv)",
   "metadata": {
    "interpreter": {
     "hash": "4add46ac46e37a25057a0e0b118c93150b3286d6ab5eed48ad7a494b2b085fd2"
    }
   }
  }
 },
 "nbformat": 4,
 "nbformat_minor": 2,
 "cells": [
  {
   "cell_type": "code",
   "execution_count": 25,
   "metadata": {},
   "outputs": [],
   "source": [
    "import pandas as pd\n",
    "import numpy as np"
   ]
  },
  {
   "cell_type": "code",
   "execution_count": 26,
   "metadata": {},
   "outputs": [],
   "source": [
    "ohlcv = pd.read_csv('binance-btc-usdc.csv.gz', index_col='dt')"
   ]
  },
  {
   "cell_type": "code",
   "execution_count": 27,
   "metadata": {},
   "outputs": [],
   "source": [
    "cdiff = ohlcv.close.pct_change().fillna(0)\n",
    "dir = pd.Series(0, index=ohlcv.index)\n",
    "dir[cdiff > .001] = 1\n",
    "dir[cdiff < -.001] = 2\n",
    "dir = dir.shift(-1).iloc[:-1].astype(int)\n",
    "ohlcv = ohlcv.iloc[:-1]"
   ]
  },
  {
   "cell_type": "code",
   "execution_count": 28,
   "metadata": {},
   "outputs": [],
   "source": [
    "train = ohlcv.loc[:'2020-02-01']\n",
    "train_dir = dir.loc[:'2020-02-01']\n",
    "test = ohlcv.loc['2020-02-01':]\n",
    "test_dir = dir.loc['2020-02-01':]"
   ]
  },
  {
   "cell_type": "code",
   "execution_count": 35,
   "metadata": {},
   "outputs": [
    {
     "output_type": "execute_result",
     "data": {
      "text/plain": [
       "0.5602344019170282"
      ]
     },
     "metadata": {},
     "execution_count": 35
    }
   ],
   "source": [
    "def hist3(ohlcv):\n",
    "    ohlcv_h = pd.concat((ohlcv, ohlcv.shift(1).add_prefix('p_'), ohlcv.shift(2).add_prefix('pp_')), axis=1)\n",
    "    return ohlcv_h\n",
    "\n",
    "import lightgbm as lgb\n",
    "gbm = lgb.LGBMClassifier(learning_rate=0.005, n_estimators=200)\n",
    "\n",
    "from sklearn.preprocessing import FunctionTransformer\n",
    "from sklearn.pipeline import make_pipeline\n",
    "\n",
    "tr = FunctionTransformer(hist3)\n",
    "\n",
    "pl = make_pipeline(tr, gbm)\n",
    "\n",
    "pl.fit(train, train_dir)\n",
    "pred = pl.predict_proba(test)\n",
    "\n",
    "from sklearn.metrics import roc_auc_score\n",
    "roc_auc_score(test_dir, pred, multi_class='ovo', average='weighted')"
   ]
  },
  {
   "cell_type": "code",
   "execution_count": 36,
   "metadata": {},
   "outputs": [
    {
     "output_type": "execute_result",
     "data": {
      "text/plain": [
       "simple returns          1.597199\n",
       "buy&hold returns        3.522904\n",
       "commission downscale    0.003834\n",
       "dtype: float64"
      ]
     },
     "metadata": {},
     "execution_count": 36
    }
   ],
   "source": [
    "signals = pd.Series(pred.argmax(axis=1), index=test.index)\n",
    "scales = 1+((test.close.shift(-1) - test.close)/test.close).fillna(0)\n",
    "\n",
    "long = scales[signals==1].prod()\n",
    "short = (1/scales[signals==2]).prod()\n",
    "\n",
    "prev_signals = signals.shift(1).fillna(0).astype(int)\n",
    "ntrades = (signals != prev_signals).sum()\n",
    "ntrades += ((prev_signals == 2) & (signals == 1)).sum()\n",
    "ntrades += ((prev_signals == 1) & (signals == 2)).sum()\n",
    "\n",
    "pd.Series({\n",
    "    'simple returns': long*short, # long if 1, short if 2 cash if 0, no commissions\n",
    "    'buy&hold returns': scales.prod(),\n",
    "    'commission downscale': 0.999**ntrades\n",
    "})"
   ]
  },
  {
   "cell_type": "code",
   "execution_count": null,
   "metadata": {},
   "outputs": [],
   "source": []
  }
 ]
}