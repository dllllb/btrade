{
 "cells": [
  {
   "cell_type": "code",
   "execution_count": 7,
   "metadata": {},
   "outputs": [
    {
     "output_type": "stream",
     "name": "stderr",
     "text": [
      "100%|██████████| 72/72 [00:46<00:00,  1.54it/s]\n"
     ]
    }
   ],
   "source": [
    "import bt_strategy as bs\n",
    "\n",
    "import pandas_datareader as pdr\n",
    "\n",
    "import yfinance as yf\n",
    "yf.pdr_override()\n",
    "\n",
    "tickers = {\n",
    "    'NVDA': '1999-01-01',\n",
    "    'BTC-USD': '2013-01-01',\n",
    "    'RUBUSD=X': '2004-01-01',\n",
    "    'IAU': '2005-01-01',\n",
    "    'EURUSD=X': '2004-01-01',\n",
    "    'VTI': '2002-01-01',\n",
    "    'EDV': '2008-01-01',\n",
    "    'VGT': '2004-01-01'\n",
    "}\n",
    "\n",
    "end = '2018-12-31'\n",
    "\n",
    "logs = {\n",
    "    ticker: pdr.DataReader(\n",
    "        name=ticker,\n",
    "        start=start,\n",
    "        end=end,\n",
    "        data_source='yahoo'\n",
    "    )\n",
    "    for ticker, start in tickers.items()\n",
    "}\n",
    "\n",
    "strategies = {\n",
    "    bs.buy_and_hold_strategy,\n",
    "    bs.close_vs_sma_strategy,\n",
    "    bs.mean_reversion_strategy,\n",
    "    bs.prev_peak_strategy,\n",
    "    bs.random_strategy,\n",
    "    bs.prev_peak_nodrop_strategy,\n",
    "    bs.mean_reversion_nodrop_strategy,\n",
    "    bs.close_vs_sma_nodrop_strategy,\n",
    "    bs.anti_drop_strategy\n",
    "}\n",
    "\n",
    "stats = bs.evaluate_strategies(strategies, logs, n_trials=50, n_jobs=-1)\n"
   ]
  },
  {
   "cell_type": "code",
   "execution_count": 12,
   "metadata": {},
   "outputs": [
    {
     "output_type": "execute_result",
     "data": {
      "text/plain": [
       "ticker                            BTC-USD       EDV  EURUSD=X       IAU  \\\n",
       "strategy                                                                  \n",
       "anti_drop_strategy               2.449465  0.780442  0.934314  1.242968   \n",
       "buy_and_hold_strategy           13.795010  1.149577  0.930954  1.768943   \n",
       "close_vs_sma_nodrop_strategy     1.376129  1.068178  1.000000  1.080109   \n",
       "close_vs_sma_strategy            1.826426  0.913454  0.922105  1.197130   \n",
       "mean_reversion_nodrop_strategy   1.064101  1.047762  0.992990  0.905358   \n",
       "mean_reversion_strategy          1.290450  0.901747  0.871926  1.243164   \n",
       "prev_peak_nodrop_strategy        1.080695  1.179788  1.028271  1.119671   \n",
       "prev_peak_strategy               1.174693  0.998382  1.064582  1.456449   \n",
       "random_strategy                  2.416911  1.136288  1.039449  1.194755   \n",
       "\n",
       "ticker                               NVDA  RUBUSD=X       VGT       VTI  \n",
       "strategy                                                                 \n",
       "anti_drop_strategy               1.513476  1.118151  1.235401  1.196869  \n",
       "buy_and_hold_strategy           16.112196  1.307616  2.442905  1.709661  \n",
       "close_vs_sma_nodrop_strategy     1.537648  0.631714  1.708942  1.087948  \n",
       "close_vs_sma_strategy            0.764712  0.859616  1.207293  1.174715  \n",
       "mean_reversion_nodrop_strategy   2.065790  0.616706  1.290950  1.165907  \n",
       "mean_reversion_strategy          0.876631  0.696577  1.342477  1.137225  \n",
       "prev_peak_nodrop_strategy        1.195230  0.627398  1.257506  1.197287  \n",
       "prev_peak_strategy               0.814259  0.747883  1.348525  1.013846  \n",
       "random_strategy                  3.550111  0.828028  1.408636  1.198080  "
      ],
      "text/html": "<div>\n<style scoped>\n    .dataframe tbody tr th:only-of-type {\n        vertical-align: middle;\n    }\n\n    .dataframe tbody tr th {\n        vertical-align: top;\n    }\n\n    .dataframe thead th {\n        text-align: right;\n    }\n</style>\n<table border=\"1\" class=\"dataframe\">\n  <thead>\n    <tr style=\"text-align: right;\">\n      <th>ticker</th>\n      <th>BTC-USD</th>\n      <th>EDV</th>\n      <th>EURUSD=X</th>\n      <th>IAU</th>\n      <th>NVDA</th>\n      <th>RUBUSD=X</th>\n      <th>VGT</th>\n      <th>VTI</th>\n    </tr>\n    <tr>\n      <th>strategy</th>\n      <th></th>\n      <th></th>\n      <th></th>\n      <th></th>\n      <th></th>\n      <th></th>\n      <th></th>\n      <th></th>\n    </tr>\n  </thead>\n  <tbody>\n    <tr>\n      <th>anti_drop_strategy</th>\n      <td>2.449465</td>\n      <td>0.780442</td>\n      <td>0.934314</td>\n      <td>1.242968</td>\n      <td>1.513476</td>\n      <td>1.118151</td>\n      <td>1.235401</td>\n      <td>1.196869</td>\n    </tr>\n    <tr>\n      <th>buy_and_hold_strategy</th>\n      <td>13.795010</td>\n      <td>1.149577</td>\n      <td>0.930954</td>\n      <td>1.768943</td>\n      <td>16.112196</td>\n      <td>1.307616</td>\n      <td>2.442905</td>\n      <td>1.709661</td>\n    </tr>\n    <tr>\n      <th>close_vs_sma_nodrop_strategy</th>\n      <td>1.376129</td>\n      <td>1.068178</td>\n      <td>1.000000</td>\n      <td>1.080109</td>\n      <td>1.537648</td>\n      <td>0.631714</td>\n      <td>1.708942</td>\n      <td>1.087948</td>\n    </tr>\n    <tr>\n      <th>close_vs_sma_strategy</th>\n      <td>1.826426</td>\n      <td>0.913454</td>\n      <td>0.922105</td>\n      <td>1.197130</td>\n      <td>0.764712</td>\n      <td>0.859616</td>\n      <td>1.207293</td>\n      <td>1.174715</td>\n    </tr>\n    <tr>\n      <th>mean_reversion_nodrop_strategy</th>\n      <td>1.064101</td>\n      <td>1.047762</td>\n      <td>0.992990</td>\n      <td>0.905358</td>\n      <td>2.065790</td>\n      <td>0.616706</td>\n      <td>1.290950</td>\n      <td>1.165907</td>\n    </tr>\n    <tr>\n      <th>mean_reversion_strategy</th>\n      <td>1.290450</td>\n      <td>0.901747</td>\n      <td>0.871926</td>\n      <td>1.243164</td>\n      <td>0.876631</td>\n      <td>0.696577</td>\n      <td>1.342477</td>\n      <td>1.137225</td>\n    </tr>\n    <tr>\n      <th>prev_peak_nodrop_strategy</th>\n      <td>1.080695</td>\n      <td>1.179788</td>\n      <td>1.028271</td>\n      <td>1.119671</td>\n      <td>1.195230</td>\n      <td>0.627398</td>\n      <td>1.257506</td>\n      <td>1.197287</td>\n    </tr>\n    <tr>\n      <th>prev_peak_strategy</th>\n      <td>1.174693</td>\n      <td>0.998382</td>\n      <td>1.064582</td>\n      <td>1.456449</td>\n      <td>0.814259</td>\n      <td>0.747883</td>\n      <td>1.348525</td>\n      <td>1.013846</td>\n    </tr>\n    <tr>\n      <th>random_strategy</th>\n      <td>2.416911</td>\n      <td>1.136288</td>\n      <td>1.039449</td>\n      <td>1.194755</td>\n      <td>3.550111</td>\n      <td>0.828028</td>\n      <td>1.408636</td>\n      <td>1.198080</td>\n    </tr>\n  </tbody>\n</table>\n</div>"
     },
     "metadata": {},
     "execution_count": 12
    }
   ],
   "source": [
    "stats.groupby(['strategy', 'ticker']).value.mean().unstack()"
   ]
  },
  {
   "cell_type": "code",
   "execution_count": 15,
   "metadata": {},
   "outputs": [
    {
     "output_type": "execute_result",
     "data": {
      "text/plain": [
       "ticker                            BTC-USD        EDV   EURUSD=X        IAU  \\\n",
       "strategy                                                                     \n",
       "anti_drop_strategy              46.709256  60.173863  28.600276  29.475671   \n",
       "buy_and_hold_strategy           83.398739  51.429317  35.010709  45.135137   \n",
       "close_vs_sma_nodrop_strategy    49.478379  47.140548   0.000000  14.862387   \n",
       "close_vs_sma_strategy           68.419482  35.055008  17.345489  17.821787   \n",
       "mean_reversion_nodrop_strategy  71.846270  31.650327  28.390461  38.081635   \n",
       "mean_reversion_strategy         67.685225  41.799955  34.758071  28.940895   \n",
       "prev_peak_nodrop_strategy       33.342925  22.295206  11.770145  27.722776   \n",
       "prev_peak_strategy              67.131301  35.970243  16.790895  18.549516   \n",
       "random_strategy                 79.118672  51.937070  41.775116  44.788731   \n",
       "\n",
       "ticker                               NVDA   RUBUSD=X        VGT        VTI  \n",
       "strategy                                                                    \n",
       "anti_drop_strategy              83.157250  99.088749  46.759246  24.544382  \n",
       "buy_and_hold_strategy           89.722488  99.136068  54.760430  56.653162  \n",
       "close_vs_sma_nodrop_strategy    88.976956  99.134531  55.418394  21.048906  \n",
       "close_vs_sma_strategy           97.284822  42.445105  48.152457  35.753372  \n",
       "mean_reversion_nodrop_strategy  84.502754  99.050249  46.906292  31.107978  \n",
       "mean_reversion_strategy         87.716342  99.063790  46.714156  49.836948  \n",
       "prev_peak_nodrop_strategy       79.673569  99.132085  42.727619  46.906251  \n",
       "prev_peak_strategy              84.203513  99.133007  42.727619  46.906251  \n",
       "random_strategy                 88.473285  99.273125  52.494390  58.108026  "
      ],
      "text/html": "<div>\n<style scoped>\n    .dataframe tbody tr th:only-of-type {\n        vertical-align: middle;\n    }\n\n    .dataframe tbody tr th {\n        vertical-align: top;\n    }\n\n    .dataframe thead th {\n        text-align: right;\n    }\n</style>\n<table border=\"1\" class=\"dataframe\">\n  <thead>\n    <tr style=\"text-align: right;\">\n      <th>ticker</th>\n      <th>BTC-USD</th>\n      <th>EDV</th>\n      <th>EURUSD=X</th>\n      <th>IAU</th>\n      <th>NVDA</th>\n      <th>RUBUSD=X</th>\n      <th>VGT</th>\n      <th>VTI</th>\n    </tr>\n    <tr>\n      <th>strategy</th>\n      <th></th>\n      <th></th>\n      <th></th>\n      <th></th>\n      <th></th>\n      <th></th>\n      <th></th>\n      <th></th>\n    </tr>\n  </thead>\n  <tbody>\n    <tr>\n      <th>anti_drop_strategy</th>\n      <td>46.709256</td>\n      <td>60.173863</td>\n      <td>28.600276</td>\n      <td>29.475671</td>\n      <td>83.157250</td>\n      <td>99.088749</td>\n      <td>46.759246</td>\n      <td>24.544382</td>\n    </tr>\n    <tr>\n      <th>buy_and_hold_strategy</th>\n      <td>83.398739</td>\n      <td>51.429317</td>\n      <td>35.010709</td>\n      <td>45.135137</td>\n      <td>89.722488</td>\n      <td>99.136068</td>\n      <td>54.760430</td>\n      <td>56.653162</td>\n    </tr>\n    <tr>\n      <th>close_vs_sma_nodrop_strategy</th>\n      <td>49.478379</td>\n      <td>47.140548</td>\n      <td>0.000000</td>\n      <td>14.862387</td>\n      <td>88.976956</td>\n      <td>99.134531</td>\n      <td>55.418394</td>\n      <td>21.048906</td>\n    </tr>\n    <tr>\n      <th>close_vs_sma_strategy</th>\n      <td>68.419482</td>\n      <td>35.055008</td>\n      <td>17.345489</td>\n      <td>17.821787</td>\n      <td>97.284822</td>\n      <td>42.445105</td>\n      <td>48.152457</td>\n      <td>35.753372</td>\n    </tr>\n    <tr>\n      <th>mean_reversion_nodrop_strategy</th>\n      <td>71.846270</td>\n      <td>31.650327</td>\n      <td>28.390461</td>\n      <td>38.081635</td>\n      <td>84.502754</td>\n      <td>99.050249</td>\n      <td>46.906292</td>\n      <td>31.107978</td>\n    </tr>\n    <tr>\n      <th>mean_reversion_strategy</th>\n      <td>67.685225</td>\n      <td>41.799955</td>\n      <td>34.758071</td>\n      <td>28.940895</td>\n      <td>87.716342</td>\n      <td>99.063790</td>\n      <td>46.714156</td>\n      <td>49.836948</td>\n    </tr>\n    <tr>\n      <th>prev_peak_nodrop_strategy</th>\n      <td>33.342925</td>\n      <td>22.295206</td>\n      <td>11.770145</td>\n      <td>27.722776</td>\n      <td>79.673569</td>\n      <td>99.132085</td>\n      <td>42.727619</td>\n      <td>46.906251</td>\n    </tr>\n    <tr>\n      <th>prev_peak_strategy</th>\n      <td>67.131301</td>\n      <td>35.970243</td>\n      <td>16.790895</td>\n      <td>18.549516</td>\n      <td>84.203513</td>\n      <td>99.133007</td>\n      <td>42.727619</td>\n      <td>46.906251</td>\n    </tr>\n    <tr>\n      <th>random_strategy</th>\n      <td>79.118672</td>\n      <td>51.937070</td>\n      <td>41.775116</td>\n      <td>44.788731</td>\n      <td>88.473285</td>\n      <td>99.273125</td>\n      <td>52.494390</td>\n      <td>58.108026</td>\n    </tr>\n  </tbody>\n</table>\n</div>"
     },
     "metadata": {},
     "execution_count": 15
    }
   ],
   "source": [
    "stats.groupby(['strategy', 'ticker']).dropdown.max().unstack()"
   ]
  },
  {
   "cell_type": "code",
   "execution_count": 18,
   "metadata": {},
   "outputs": [
    {
     "output_type": "execute_result",
     "data": {
      "text/plain": [
       "strategy\n",
       "anti_drop_strategy                1.308886\n",
       "buy_and_hold_strategy             4.902108\n",
       "close_vs_sma_nodrop_strategy      1.186334\n",
       "close_vs_sma_strategy             1.108181\n",
       "mean_reversion_nodrop_strategy    1.143695\n",
       "mean_reversion_strategy           1.045024\n",
       "prev_peak_nodrop_strategy         1.085731\n",
       "prev_peak_strategy                1.077327\n",
       "random_strategy                   1.596532\n",
       "Name: value, dtype: float64"
      ]
     },
     "metadata": {},
     "execution_count": 18
    }
   ],
   "source": [
    "stats.groupby('strategy').value.mean()"
   ]
  },
  {
   "cell_type": "code",
   "execution_count": 20,
   "metadata": {},
   "outputs": [
    {
     "output_type": "execute_result",
     "data": {
      "text/plain": [
       "strategy\n",
       "anti_drop_strategy                99.088749\n",
       "buy_and_hold_strategy             99.136068\n",
       "close_vs_sma_nodrop_strategy      99.134531\n",
       "close_vs_sma_strategy             97.284822\n",
       "mean_reversion_nodrop_strategy    99.050249\n",
       "mean_reversion_strategy           99.063790\n",
       "prev_peak_nodrop_strategy         99.132085\n",
       "prev_peak_strategy                99.133007\n",
       "random_strategy                   99.273125\n",
       "Name: dropdown, dtype: float64"
      ]
     },
     "metadata": {},
     "execution_count": 20
    }
   ],
   "source": [
    "stats.groupby('strategy').dropdown.max()"
   ]
  },
  {
   "cell_type": "code",
   "execution_count": null,
   "metadata": {},
   "outputs": [],
   "source": []
  }
 ],
 "metadata": {
  "kernelspec": {
   "name": "python3",
   "display_name": "Python 3.8.0 64-bit ('btrade-1P867J5b': pipenv)"
  },
  "language_info": {
   "codemirror_mode": {
    "name": "ipython",
    "version": 3
   },
   "file_extension": ".py",
   "mimetype": "text/x-python",
   "name": "python",
   "nbconvert_exporter": "python",
   "pygments_lexer": "ipython3",
   "version": "3.8.0"
  },
  "interpreter": {
   "hash": "8d80ce7471031201778218ecf1a39066e8dcccbe04ed49e84764e574f22ceee9"
  }
 },
 "nbformat": 4,
 "nbformat_minor": 2
}