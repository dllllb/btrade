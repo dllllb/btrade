{
 "cells": [
  {
   "cell_type": "code",
   "execution_count": 1,
   "metadata": {},
   "outputs": [
    {
     "output_type": "stream",
     "name": "stderr",
     "text": [
      "100%|██████████| 50/50 [00:34<00:00,  1.45it/s]\n",
      "100%|██████████| 50/50 [00:14<00:00,  3.45it/s]\n",
      "100%|██████████| 50/50 [00:34<00:00,  1.43it/s]\n",
      "100%|██████████| 50/50 [00:32<00:00,  1.55it/s]\n",
      "100%|██████████| 50/50 [00:31<00:00,  1.59it/s]\n",
      "100%|██████████| 50/50 [00:36<00:00,  1.39it/s]\n",
      "100%|██████████| 50/50 [00:48<00:00,  1.03it/s]\n",
      "100%|██████████| 50/50 [00:18<00:00,  2.70it/s]\n",
      "100%|██████████| 50/50 [00:38<00:00,  1.30it/s]\n",
      "100%|██████████| 50/50 [00:37<00:00,  1.33it/s]\n",
      "100%|██████████| 50/50 [00:35<00:00,  1.41it/s]\n",
      "100%|██████████| 50/50 [00:42<00:00,  1.18it/s]\n",
      "100%|██████████| 50/50 [00:46<00:00,  1.08it/s]\n",
      "100%|██████████| 50/50 [00:18<00:00,  2.66it/s]\n",
      "100%|██████████| 50/50 [00:37<00:00,  1.32it/s]\n",
      "100%|██████████| 50/50 [00:36<00:00,  1.36it/s]\n",
      "100%|██████████| 50/50 [00:42<00:00,  1.17it/s]\n",
      "100%|██████████| 50/50 [00:41<00:00,  1.22it/s]\n",
      "100%|██████████| 50/50 [01:18<00:00,  1.58s/it]\n",
      "100%|██████████| 50/50 [00:21<00:00,  2.31it/s]\n",
      "100%|██████████| 50/50 [00:44<00:00,  1.13it/s]\n",
      "100%|██████████| 50/50 [00:45<00:00,  1.10it/s]\n",
      "100%|██████████| 50/50 [00:42<00:00,  1.16it/s]\n",
      "100%|██████████| 50/50 [00:42<00:00,  1.17it/s]\n",
      "100%|██████████| 50/50 [01:10<00:00,  1.40s/it]\n",
      "100%|██████████| 50/50 [00:20<00:00,  2.50it/s]\n",
      "100%|██████████| 50/50 [00:41<00:00,  1.20it/s]\n",
      "100%|██████████| 50/50 [00:46<00:00,  1.08it/s]\n",
      "100%|██████████| 50/50 [00:39<00:00,  1.26it/s]\n",
      "100%|██████████| 50/50 [00:44<00:00,  1.13it/s]\n"
     ]
    }
   ],
   "source": [
    "from baselines import evaluate_strategies, buy_and_hold_strategy, close_vs_sma_strategy, mean_reversion_strategy, prev_peak_strategy, random_strategy\n",
    "\n",
    "import pandas_datareader as pdr\n",
    "\n",
    "import requests_cache\n",
    "session = requests_cache.CachedSession(cache_name='stocks-cache', backend='sqlite')\n",
    "\n",
    "tickers = {\n",
    "    \"NVDA\": '1999-01-01',\n",
    "    \"BTCUSD=X\": '2013-01-01',\n",
    "    \"RUB=X\": '2004-01-01',\n",
    "    \"IAU\": '2005-01-01',\n",
    "    \"EUR=X\": '2004-01-01',\n",
    "    \"VTI\": '2002-01-01'\n",
    "}\n",
    "\n",
    "end = '2020-04-01'\n",
    "\n",
    "logs = {\n",
    "    ticker: pdr.DataReader(\n",
    "        name=ticker,\n",
    "        start=start,\n",
    "        end=end,\n",
    "        data_source='yahoo',\n",
    "        session=session\n",
    "    )\n",
    "    for ticker, start in tickers.items()\n",
    "}\n",
    "\n",
    "strategies = {\n",
    "    buy_and_hold_strategy,\n",
    "    close_vs_sma_strategy,\n",
    "    mean_reversion_strategy,\n",
    "    prev_peak_strategy,\n",
    "    random_strategy\n",
    "}\n",
    "\n",
    "res = evaluate_strategies(strategies, logs, n_trials=50)\n"
   ]
  },
  {
   "cell_type": "code",
   "execution_count": 2,
   "metadata": {},
   "outputs": [
    {
     "output_type": "execute_result",
     "data": {
      "text/plain": [
       "                              NVDA   BTCUSD=X     RUB=X       IAU     EUR=X  \\\n",
       "strategy                                                                      \n",
       "buy_and_hold_strategy    15.406219  49.045865  1.901539  1.988395  1.094513   \n",
       "close_vs_sma_strategy     0.802851   0.991905  0.875711  1.199965  1.049827   \n",
       "mean_reversion_strategy   0.827074   1.800750  1.155905  1.326833  0.914476   \n",
       "prev_peak_strategy        0.813297   1.585220  1.048730  1.542246  1.061154   \n",
       "random_strategy           3.848283   4.269993  1.225415  1.169220  1.109244   \n",
       "\n",
       "                              VTI  \n",
       "strategy                           \n",
       "buy_and_hold_strategy    1.917732  \n",
       "close_vs_sma_strategy    1.231626  \n",
       "mean_reversion_strategy  1.135908  \n",
       "prev_peak_strategy       1.045296  \n",
       "random_strategy          1.241398  "
      ],
      "text/html": "<div>\n<style scoped>\n    .dataframe tbody tr th:only-of-type {\n        vertical-align: middle;\n    }\n\n    .dataframe tbody tr th {\n        vertical-align: top;\n    }\n\n    .dataframe thead th {\n        text-align: right;\n    }\n</style>\n<table border=\"1\" class=\"dataframe\">\n  <thead>\n    <tr style=\"text-align: right;\">\n      <th></th>\n      <th>NVDA</th>\n      <th>BTCUSD=X</th>\n      <th>RUB=X</th>\n      <th>IAU</th>\n      <th>EUR=X</th>\n      <th>VTI</th>\n    </tr>\n    <tr>\n      <th>strategy</th>\n      <th></th>\n      <th></th>\n      <th></th>\n      <th></th>\n      <th></th>\n      <th></th>\n    </tr>\n  </thead>\n  <tbody>\n    <tr>\n      <th>buy_and_hold_strategy</th>\n      <td>15.406219</td>\n      <td>49.045865</td>\n      <td>1.901539</td>\n      <td>1.988395</td>\n      <td>1.094513</td>\n      <td>1.917732</td>\n    </tr>\n    <tr>\n      <th>close_vs_sma_strategy</th>\n      <td>0.802851</td>\n      <td>0.991905</td>\n      <td>0.875711</td>\n      <td>1.199965</td>\n      <td>1.049827</td>\n      <td>1.231626</td>\n    </tr>\n    <tr>\n      <th>mean_reversion_strategy</th>\n      <td>0.827074</td>\n      <td>1.800750</td>\n      <td>1.155905</td>\n      <td>1.326833</td>\n      <td>0.914476</td>\n      <td>1.135908</td>\n    </tr>\n    <tr>\n      <th>prev_peak_strategy</th>\n      <td>0.813297</td>\n      <td>1.585220</td>\n      <td>1.048730</td>\n      <td>1.542246</td>\n      <td>1.061154</td>\n      <td>1.045296</td>\n    </tr>\n    <tr>\n      <th>random_strategy</th>\n      <td>3.848283</td>\n      <td>4.269993</td>\n      <td>1.225415</td>\n      <td>1.169220</td>\n      <td>1.109244</td>\n      <td>1.241398</td>\n    </tr>\n  </tbody>\n</table>\n</div>"
     },
     "metadata": {},
     "execution_count": 2
    }
   ],
   "source": [
    "res.groupby('strategy').mean()"
   ]
  },
  {
   "cell_type": "code",
   "execution_count": 3,
   "metadata": {},
   "outputs": [
    {
     "output_type": "execute_result",
     "data": {
      "text/plain": [
       "strategy\n",
       "buy_and_hold_strategy      11.892377\n",
       "close_vs_sma_strategy       1.025314\n",
       "mean_reversion_strategy     1.193491\n",
       "prev_peak_strategy          1.182657\n",
       "random_strategy             2.143925\n",
       "dtype: float64"
      ]
     },
     "metadata": {},
     "execution_count": 3
    }
   ],
   "source": [
    "res.groupby('strategy').mean().mean(axis=1)"
   ]
  },
  {
   "cell_type": "code",
   "execution_count": null,
   "metadata": {},
   "outputs": [],
   "source": []
  }
 ],
 "metadata": {
  "kernelspec": {
   "display_name": "Python 3",
   "language": "python",
   "name": "python3"
  },
  "language_info": {
   "codemirror_mode": {
    "name": "ipython",
    "version": 3
   },
   "file_extension": ".py",
   "mimetype": "text/x-python",
   "name": "python",
   "nbconvert_exporter": "python",
   "pygments_lexer": "ipython3",
   "version": "3.8.6-final"
  }
 },
 "nbformat": 4,
 "nbformat_minor": 2
}