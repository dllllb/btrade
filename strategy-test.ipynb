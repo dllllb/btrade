{
 "cells": [
  {
   "cell_type": "code",
   "execution_count": 7,
   "metadata": {},
   "outputs": [
    {
     "output_type": "stream",
     "name": "stderr",
     "text": "100%|██████████| 50/50 [00:17<00:00,  2.94it/s]\n100%|██████████| 50/50 [02:01<00:00,  2.44s/it]\n100%|██████████| 50/50 [00:17<00:00,  2.91it/s]\n100%|██████████| 50/50 [01:59<00:00,  2.40s/it]\n100%|██████████| 50/50 [00:17<00:00,  2.92it/s]\n100%|██████████| 50/50 [02:01<00:00,  2.44s/it]       random_strategy-NVDA  random_strategy-BTC-USD\ncount             50.000000                50.000000\nmean               1.896948                 1.943522\nstd                0.885199                 1.559102\nmin                0.682262                 0.315202\n25%                1.301815                 0.932930\n50%                1.742376                 1.605126\n75%                2.271191                 1.970469\nmax                5.041753                 7.507821\n       buy_and_hold_strategy-NVDA  buy_and_hold_strategy-BTC-USD\ncount                   50.000000                      50.000000\nmean                    15.678693                      14.772991\nstd                      1.507230                       1.848961\nmin                     12.020170                      10.870090\n25%                     15.117652                      14.038253\n50%                     15.880258                      14.965444\n75%                     16.785106                      15.833240\nmax                     18.570889                      19.245260\n       simple_buy_sell_strategy-NVDA  simple_buy_sell_strategy-BTC-USD\ncount                      50.000000                         50.000000\nmean                        3.038145                          0.765703\nstd                         0.254780                          0.085063\nmin                         2.416664                          0.568561\n25%                         2.923929                          0.734174\n50%                         3.203655                          0.782643\n75%                         3.203655                          0.828006\nmax                         3.203655                          0.904682\nrandom_strategy-NVDA                 1.896948\nrandom_strategy-BTC-USD              1.943522\nbuy_and_hold_strategy-NVDA          15.678693\nbuy_and_hold_strategy-BTC-USD       14.772991\nsimple_buy_sell_strategy-NVDA        3.038145\nsimple_buy_sell_strategy-BTC-USD     0.765703\ndtype: float64\nrandom_strategy              1.920235\nbuy_and_hold_strategy       15.225842\nsimple_buy_sell_strategy     1.901924\ndtype: float64\n\n"
    }
   ],
   "source": [
    "from baselines import test_strategies, buy_and_hold_strategy, simple_buy_sell_strategy, random_strategy\n",
    "\n",
    "import pandas_datareader as pdr\n",
    "\n",
    "import requests_cache\n",
    "session = requests_cache.CachedSession(cache_name='stocks-cache', backend='sqlite')\n",
    "\n",
    "nvda = pdr.DataReader(\"NVDA\", start='1999-01-22', end='2020-05-01', data_source='yahoo', session=session)\n",
    "btc = pdr.DataReader(\"BTC-USD\", start='2010-07-16', end='2020-05-01', data_source='yahoo', session=session)\n",
    "\n",
    "test_strategies(\n",
    "    {\n",
    "        buy_and_hold_strategy,\n",
    "        simple_buy_sell_strategy,\n",
    "        random_strategy\n",
    "    },\n",
    "    {\n",
    "        'NVDA': nvda,\n",
    "        'BTC-USD': btc\n",
    "    },\n",
    "    from_date='2014-01-01',\n",
    "    to_date='2020-05-01',\n",
    "    n_steps=50,\n",
    "    step_size=1,\n",
    ")"
   ]
  },
  {
   "cell_type": "code",
   "execution_count": 1,
   "metadata": {},
   "outputs": [
    {
     "output_type": "stream",
     "name": "stderr",
     "text": "100%|██████████| 50/50 [00:01<00:00, 26.74it/s]\n100%|██████████| 50/50 [01:43<00:00,  2.06s/it]\n100%|██████████| 50/50 [01:47<00:00,  2.15s/it]\n100%|██████████| 50/50 [00:03<00:00, 15.37it/s]\n100%|██████████| 50/50 [00:01<00:00, 27.38it/s]\n100%|██████████| 50/50 [01:43<00:00,  2.06s/it]\n100%|██████████| 50/50 [01:29<00:00,  1.78s/it]\n100%|██████████| 50/50 [00:03<00:00, 15.53it/s]\n100%|██████████| 50/50 [00:01<00:00, 26.35it/s]\n100%|██████████| 50/50 [01:29<00:00,  1.80s/it]\n100%|██████████| 50/50 [01:29<00:00,  1.79s/it]\n100%|██████████| 50/50 [00:03<00:00, 16.02it/s]       random_strategy-FXDE  random_strategy-FXGD  random_strategy-FXIT  \\\ncount             50.000000                   0.0                   0.0   \nmean               0.967114                   NaN                   NaN   \nstd                0.189497                   NaN                   NaN   \nmin                0.668281                   NaN                   NaN   \n25%                0.845926                   NaN                   NaN   \n50%                0.955334                   NaN                   NaN   \n75%                1.034364                   NaN                   NaN   \nmax                1.693721                   NaN                   NaN   \n\n       random_strategy-FXMM  \ncount             50.000000  \nmean               1.113259  \nstd                0.156614  \nmin                0.926170  \n25%                1.005921  \n50%                1.056083  \n75%                1.197069  \nmax                1.741632  \n       buy_and_hold_strategy-FXDE  buy_and_hold_strategy-FXGD  \\\ncount                   50.000000                   50.000000   \nmean                     0.885691                    2.686547   \nstd                      0.069446                    0.089149   \nmin                      0.800351                    2.535503   \n25%                      0.818094                    2.611244   \n50%                      0.895413                    2.716640   \n75%                      0.908300                    2.743800   \nmax                      1.052518                    2.854903   \n\n       buy_and_hold_strategy-FXIT  buy_and_hold_strategy-FXMM  \ncount                   10.000000                   50.000000  \nmean                     5.256503                    1.124769  \nstd                      0.129877                    0.071871  \nmin                      5.099261                    1.084890  \n25%                      5.118180                    1.090484  \n50%                      5.297473                    1.092820  \n75%                      5.335509                    1.094435  \nmax                      5.435484                    1.280185  \n       simple_buy_sell_strategy-FXDE  simple_buy_sell_strategy-FXGD  \\\ncount                      50.000000                   5.000000e+01   \nmean                        0.974862                   8.895412e-01   \nstd                         0.090602                   1.121495e-15   \nmin                         0.863525                   8.895412e-01   \n25%                         0.886672                   8.895412e-01   \n50%                         0.987547                   8.895412e-01   \n75%                         1.004359                   8.895412e-01   \nmax                         1.192512                   8.895412e-01   \n\n       simple_buy_sell_strategy-FXIT  simple_buy_sell_strategy-FXMM  \ncount                      50.000000                   5.000000e+01  \nmean                        1.255391                   1.206339e+00  \nstd                         0.064094                   1.570092e-15  \nmin                         1.118278                   1.206339e+00  \n25%                         1.214234                   1.206339e+00  \n50%                         1.299296                   1.206339e+00  \n75%                         1.299296                   1.206339e+00  \nmax                         1.299296                   1.206339e+00  \nrandom_strategy-FXDE             0.967114\nrandom_strategy-FXGD                  NaN\nrandom_strategy-FXIT                  NaN\nrandom_strategy-FXMM             1.113259\nbuy_and_hold_strategy-FXDE       0.885691\nbuy_and_hold_strategy-FXGD       2.686547\nbuy_and_hold_strategy-FXIT       5.256503\nbuy_and_hold_strategy-FXMM       1.124769\nsimple_buy_sell_strategy-FXDE    0.974862\nsimple_buy_sell_strategy-FXGD    0.889541\nsimple_buy_sell_strategy-FXIT    1.255391\nsimple_buy_sell_strategy-FXMM    1.206339\ndtype: float64\nrandom_strategy             1.040186\nbuy_and_hold_strategy       2.488377\nsimple_buy_sell_strategy    1.081534\ndtype: float64\n\n"
    }
   ],
   "source": [
    "from baselines import test_strategies, buy_and_hold_strategy, simple_buy_sell_strategy, random_strategy\n",
    "\n",
    "import pandas_datareader as pdr\n",
    "\n",
    "import requests_cache\n",
    "session = requests_cache.CachedSession(cache_name='stocks-cache', backend='sqlite')\n",
    "\n",
    "fxde = pdr.DataReader('FXDE', start='2014-01-01', end='2020-05-01', data_source='moex', session=session)\n",
    "fxde = fxde[~(fxde['CLOSE'] < 100)]\n",
    "\n",
    "fxgd = pdr.DataReader('FXGD', start='2014-01-01', end='2020-05-01', data_source='moex', session=session)\n",
    "fxgd = fxgd[~(fxgd['CLOSE'] < 20)]\n",
    "\n",
    "fxit = pdr.DataReader('FXIT', start='2014-01-01', end='2020-05-01', data_source='moex', session=session)\n",
    "fxit = fxit[~(fxit['CLOSE'] < 100)]\n",
    "\n",
    "fxmm = pdr.DataReader('FXMM', start='2014-01-01', end='2020-05-01', data_source='moex', session=session)\n",
    "fxmm = fxmm[~(fxmm['CLOSE'] < 100)]\n",
    "\n",
    "test_strategies(\n",
    "    {\n",
    "        buy_and_hold_strategy,\n",
    "        simple_buy_sell_strategy,\n",
    "        random_strategy\n",
    "    },\n",
    "    {\n",
    "        'FXDE': fxde,\n",
    "        'FXGD': fxgd,\n",
    "        'FXIT': fxit,\n",
    "        'FXMM': fxmm\n",
    "    },\n",
    "    from_date='2014-01-01',\n",
    "    to_date='2020-05-01',\n",
    "    n_steps=50,\n",
    "    step_size=1,\n",
    ")"
   ]
  },
  {
   "cell_type": "code",
   "execution_count": null,
   "metadata": {},
   "outputs": [],
   "source": []
  }
 ],
 "metadata": {
  "language_info": {
   "codemirror_mode": {
    "name": "ipython",
    "version": 3
   },
   "file_extension": ".py",
   "mimetype": "text/x-python",
   "name": "python",
   "nbconvert_exporter": "python",
   "pygments_lexer": "ipython3",
   "version": "3.7.3-final"
  },
  "orig_nbformat": 2,
  "kernelspec": {
   "name": "python3",
   "display_name": "Python 3"
  }
 },
 "nbformat": 4,
 "nbformat_minor": 2
}