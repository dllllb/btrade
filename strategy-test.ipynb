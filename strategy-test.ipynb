{
 "cells": [
  {
   "cell_type": "code",
   "execution_count": 8,
   "metadata": {},
   "outputs": [
    {
     "output_type": "stream",
     "name": "stderr",
     "text": [
      "100%|██████████| 50/50 [00:02<00:00, 17.29it/s]\n",
      "100%|██████████| 50/50 [00:03<00:00, 13.03it/s]\n",
      "100%|██████████| 50/50 [00:02<00:00, 19.55it/s]\n",
      "100%|██████████| 50/50 [00:03<00:00, 13.86it/s]\n"
     ]
    }
   ],
   "source": [
    "from baselines import evaluate_strategies, buy_and_hold_strategy, close_vs_sma_signal_strategy, mean_reversion_strategy, prev_peak_strategy, random_strategy\n",
    "\n",
    "import pandas_datareader as pdr\n",
    "\n",
    "import requests_cache\n",
    "session = requests_cache.CachedSession(cache_name='stocks-cache', backend='sqlite')\n",
    "\n",
    "nvda = pdr.DataReader(\"NVDA\", start='1999-01-22', end='2020-05-01', data_source='yahoo', session=session)\n",
    "btc = pdr.DataReader(\"BTC-USD\", start='2010-07-16', end='2020-05-01', data_source='yahoo', session=session)\n",
    "\n",
    "nvda = nvda.loc['1999-01-22': '2000-01-22']\n",
    "btc = btc.loc['2015-07-16': '2016-07-16']\n",
    "\n",
    "res = evaluate_strategies(\n",
    "    {\n",
    "        buy_and_hold_strategy,\n",
    "        #close_vs_sma_signal_strategy,\n",
    "        #mean_reversion_strategy,\n",
    "        #prev_peak_strategy,\n",
    "        random_strategy\n",
    "    },\n",
    "    {\n",
    "        'NVDA': nvda,\n",
    "        'BTC-USD': btc\n",
    "    },\n",
    "    n_trials=50\n",
    ")\n"
   ]
  },
  {
   "cell_type": "code",
   "execution_count": 10,
   "metadata": {},
   "outputs": [
    {
     "output_type": "execute_result",
     "data": {
      "text/plain": [
       "                           NVDA   BTC-USD\n",
       "strategy                                 \n",
       "buy_and_hold_strategy  1.781099  2.063857\n",
       "random_strategy        1.121707  1.234020"
      ],
      "text/html": "<div>\n<style scoped>\n    .dataframe tbody tr th:only-of-type {\n        vertical-align: middle;\n    }\n\n    .dataframe tbody tr th {\n        vertical-align: top;\n    }\n\n    .dataframe thead th {\n        text-align: right;\n    }\n</style>\n<table border=\"1\" class=\"dataframe\">\n  <thead>\n    <tr style=\"text-align: right;\">\n      <th></th>\n      <th>NVDA</th>\n      <th>BTC-USD</th>\n    </tr>\n    <tr>\n      <th>strategy</th>\n      <th></th>\n      <th></th>\n    </tr>\n  </thead>\n  <tbody>\n    <tr>\n      <th>buy_and_hold_strategy</th>\n      <td>1.781099</td>\n      <td>2.063857</td>\n    </tr>\n    <tr>\n      <th>random_strategy</th>\n      <td>1.121707</td>\n      <td>1.234020</td>\n    </tr>\n  </tbody>\n</table>\n</div>"
     },
     "metadata": {},
     "execution_count": 10
    }
   ],
   "source": [
    "res.groupby('strategy').mean()"
   ]
  },
  {
   "cell_type": "code",
   "execution_count": 9,
   "metadata": {},
   "outputs": [
    {
     "output_type": "execute_result",
     "data": {
      "text/plain": [
       "strategy\n",
       "buy_and_hold_strategy    1.922478\n",
       "random_strategy          1.177863\n",
       "dtype: float64"
      ]
     },
     "metadata": {},
     "execution_count": 9
    }
   ],
   "source": [
    "res.groupby('strategy').mean().mean(axis=1)"
   ]
  },
  {
   "cell_type": "code",
   "execution_count": null,
   "metadata": {},
   "outputs": [],
   "source": []
  }
 ],
 "metadata": {
  "kernelspec": {
   "display_name": "Python 3",
   "language": "python",
   "name": "python3"
  },
  "language_info": {
   "codemirror_mode": {
    "name": "ipython",
    "version": 3
   },
   "file_extension": ".py",
   "mimetype": "text/x-python",
   "name": "python",
   "nbconvert_exporter": "python",
   "pygments_lexer": "ipython3",
   "version": "3.8.6-final"
  }
 },
 "nbformat": 4,
 "nbformat_minor": 2
}