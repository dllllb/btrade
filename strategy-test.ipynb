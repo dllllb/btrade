{
 "cells": [
  {
   "cell_type": "code",
   "execution_count": 6,
   "metadata": {},
   "outputs": [
    {
     "output_type": "stream",
     "name": "stderr",
     "text": [
      "100%|██████████| 40/40 [21:28<00:00, 32.21s/it]\n"
     ]
    }
   ],
   "source": [
    "from baselines import evaluate_strategies, buy_and_hold_strategy, close_vs_sma_strategy, mean_reversion_strategy, prev_peak_strategy, random_strategy\n",
    "\n",
    "import pandas_datareader as pdr\n",
    "\n",
    "import requests_cache\n",
    "session = requests_cache.CachedSession(cache_name='stocks-cache', backend='sqlite')\n",
    "\n",
    "tickers = {\n",
    "    \"NVDA\": '1999-01-01',\n",
    "    \"BTCUSD=X\": '2013-01-01',\n",
    "    \"RUBUSD=X\": '2004-01-01',\n",
    "    \"IAU\": '2005-01-01',\n",
    "    \"EURUSD=X\": '2004-01-01',\n",
    "    \"VTI\": '2002-01-01',\n",
    "    \"EDV\": '2008-01-01',\n",
    "    \"VGT\": '2004-01-01'\n",
    "}\n",
    "\n",
    "end = '2018-12-31'\n",
    "\n",
    "logs = {\n",
    "    ticker: pdr.DataReader(\n",
    "        name=ticker,\n",
    "        start=start,\n",
    "        end=end,\n",
    "        data_source='yahoo',\n",
    "        session=session\n",
    "    )\n",
    "    for ticker, start in tickers.items()\n",
    "}\n",
    "\n",
    "strategies = {\n",
    "    buy_and_hold_strategy,\n",
    "    close_vs_sma_strategy,\n",
    "    mean_reversion_strategy,\n",
    "    prev_peak_strategy,\n",
    "    random_strategy\n",
    "}\n",
    "\n",
    "res = evaluate_strategies(strategies, logs, n_trials=50)\n"
   ]
  },
  {
   "cell_type": "code",
   "execution_count": 7,
   "metadata": {},
   "outputs": [
    {
     "output_type": "execute_result",
     "data": {
      "text/plain": [
       "                              NVDA   BTCUSD=X  RUBUSD=X       IAU  EURUSD=X  \\\n",
       "strategy                                                                      \n",
       "buy_and_hold_strategy    18.696200  89.257969  0.645066  1.712228  0.925121   \n",
       "close_vs_sma_strategy     0.582818   1.151066  0.884897  1.216226  0.923839   \n",
       "mean_reversion_strategy   0.792441   2.582441  0.647793  1.262687  0.857014   \n",
       "prev_peak_strategy        0.948313   2.137060  0.769977  1.571465  1.076121   \n",
       "random_strategy           4.454827   4.282358  0.899753  1.297869  0.992626   \n",
       "\n",
       "                              VTI       EDV       VGT  \n",
       "strategy                                               \n",
       "buy_and_hold_strategy    2.032213  1.150637  2.212377  \n",
       "close_vs_sma_strategy    1.161280  0.934681  1.226754  \n",
       "mean_reversion_strategy  1.158087  0.920468  1.301606  \n",
       "prev_peak_strategy       1.002608  1.005516  1.389849  \n",
       "random_strategy          1.231833  1.070649  1.432858  "
      ],
      "text/html": "<div>\n<style scoped>\n    .dataframe tbody tr th:only-of-type {\n        vertical-align: middle;\n    }\n\n    .dataframe tbody tr th {\n        vertical-align: top;\n    }\n\n    .dataframe thead th {\n        text-align: right;\n    }\n</style>\n<table border=\"1\" class=\"dataframe\">\n  <thead>\n    <tr style=\"text-align: right;\">\n      <th></th>\n      <th>NVDA</th>\n      <th>BTCUSD=X</th>\n      <th>RUBUSD=X</th>\n      <th>IAU</th>\n      <th>EURUSD=X</th>\n      <th>VTI</th>\n      <th>EDV</th>\n      <th>VGT</th>\n    </tr>\n    <tr>\n      <th>strategy</th>\n      <th></th>\n      <th></th>\n      <th></th>\n      <th></th>\n      <th></th>\n      <th></th>\n      <th></th>\n      <th></th>\n    </tr>\n  </thead>\n  <tbody>\n    <tr>\n      <th>buy_and_hold_strategy</th>\n      <td>18.696200</td>\n      <td>89.257969</td>\n      <td>0.645066</td>\n      <td>1.712228</td>\n      <td>0.925121</td>\n      <td>2.032213</td>\n      <td>1.150637</td>\n      <td>2.212377</td>\n    </tr>\n    <tr>\n      <th>close_vs_sma_strategy</th>\n      <td>0.582818</td>\n      <td>1.151066</td>\n      <td>0.884897</td>\n      <td>1.216226</td>\n      <td>0.923839</td>\n      <td>1.161280</td>\n      <td>0.934681</td>\n      <td>1.226754</td>\n    </tr>\n    <tr>\n      <th>mean_reversion_strategy</th>\n      <td>0.792441</td>\n      <td>2.582441</td>\n      <td>0.647793</td>\n      <td>1.262687</td>\n      <td>0.857014</td>\n      <td>1.158087</td>\n      <td>0.920468</td>\n      <td>1.301606</td>\n    </tr>\n    <tr>\n      <th>prev_peak_strategy</th>\n      <td>0.948313</td>\n      <td>2.137060</td>\n      <td>0.769977</td>\n      <td>1.571465</td>\n      <td>1.076121</td>\n      <td>1.002608</td>\n      <td>1.005516</td>\n      <td>1.389849</td>\n    </tr>\n    <tr>\n      <th>random_strategy</th>\n      <td>4.454827</td>\n      <td>4.282358</td>\n      <td>0.899753</td>\n      <td>1.297869</td>\n      <td>0.992626</td>\n      <td>1.231833</td>\n      <td>1.070649</td>\n      <td>1.432858</td>\n    </tr>\n  </tbody>\n</table>\n</div>"
     },
     "metadata": {},
     "execution_count": 7
    }
   ],
   "source": [
    "res.groupby('strategy').mean()"
   ]
  },
  {
   "cell_type": "code",
   "execution_count": 8,
   "metadata": {},
   "outputs": [
    {
     "output_type": "execute_result",
     "data": {
      "text/plain": [
       "strategy\n",
       "buy_and_hold_strategy      14.578976\n",
       "close_vs_sma_strategy       1.010195\n",
       "mean_reversion_strategy     1.190317\n",
       "prev_peak_strategy          1.237614\n",
       "random_strategy             1.957847\n",
       "dtype: float64"
      ]
     },
     "metadata": {},
     "execution_count": 8
    }
   ],
   "source": [
    "res.groupby('strategy').mean().mean(axis=1)"
   ]
  },
  {
   "cell_type": "code",
   "execution_count": 10,
   "metadata": {},
   "outputs": [
    {
     "output_type": "execute_result",
     "data": {
      "text/plain": [
       "strategy\n",
       "buy_and_hold_strategy      1.446274\n",
       "close_vs_sma_strategy      1.057946\n",
       "mean_reversion_strategy    1.024609\n",
       "prev_peak_strategy         1.135923\n",
       "random_strategy            1.154265\n",
       "dtype: float64"
      ]
     },
     "metadata": {},
     "execution_count": 10
    }
   ],
   "source": [
    "res.groupby('strategy').mean().drop(['NVDA', 'BTCUSD=X'], axis=1).mean(axis=1)"
   ]
  },
  {
   "cell_type": "code",
   "execution_count": 2,
   "metadata": {},
   "outputs": [
    {
     "output_type": "stream",
     "name": "stderr",
     "text": [
      "100%|██████████| 8/8 [04:08<00:00, 31.08s/it]\n"
     ]
    }
   ],
   "source": [
    "from baselines import prev_peak_nodrop_strategy\n",
    "\n",
    "import pandas_datareader as pdr\n",
    "\n",
    "import requests_cache\n",
    "session = requests_cache.CachedSession(cache_name='stocks-cache', backend='sqlite')\n",
    "\n",
    "tickers = {\n",
    "    \"NVDA\": '1999-01-01',\n",
    "    \"BTCUSD=X\": '2013-01-01',\n",
    "    \"RUBUSD=X\": '2004-01-01',\n",
    "    \"IAU\": '2005-01-01',\n",
    "    \"EURUSD=X\": '2004-01-01',\n",
    "    \"VTI\": '2002-01-01',\n",
    "    \"EDV\": '2008-01-01',\n",
    "    \"VGT\": '2004-01-01'\n",
    "}\n",
    "\n",
    "end = '2018-12-31'\n",
    "\n",
    "logs = {\n",
    "    ticker: pdr.DataReader(\n",
    "        name=ticker,\n",
    "        start=start,\n",
    "        end=end,\n",
    "        data_source='yahoo',\n",
    "        session=session\n",
    "    )\n",
    "    for ticker, start in tickers.items()\n",
    "}\n",
    "\n",
    "strategies = {\n",
    "    prev_peak_nodrop_strategy\n",
    "}\n",
    "\n",
    "res = evaluate_strategies(strategies, logs, n_trials=50)"
   ]
  },
  {
   "cell_type": "code",
   "execution_count": 4,
   "metadata": {},
   "outputs": [
    {
     "output_type": "execute_result",
     "data": {
      "text/plain": [
       "                               NVDA  BTCUSD=X  RUBUSD=X       IAU  EURUSD=X  \\\n",
       "strategy                                                                      \n",
       "prev_peak_nodrop_strategy  1.138225   2.26794  0.614679  1.113463  1.022363   \n",
       "\n",
       "                                VTI       EDV       VGT  \n",
       "strategy                                                 \n",
       "prev_peak_nodrop_strategy  1.211055  1.163116  1.280115  "
      ],
      "text/html": "<div>\n<style scoped>\n    .dataframe tbody tr th:only-of-type {\n        vertical-align: middle;\n    }\n\n    .dataframe tbody tr th {\n        vertical-align: top;\n    }\n\n    .dataframe thead th {\n        text-align: right;\n    }\n</style>\n<table border=\"1\" class=\"dataframe\">\n  <thead>\n    <tr style=\"text-align: right;\">\n      <th></th>\n      <th>NVDA</th>\n      <th>BTCUSD=X</th>\n      <th>RUBUSD=X</th>\n      <th>IAU</th>\n      <th>EURUSD=X</th>\n      <th>VTI</th>\n      <th>EDV</th>\n      <th>VGT</th>\n    </tr>\n    <tr>\n      <th>strategy</th>\n      <th></th>\n      <th></th>\n      <th></th>\n      <th></th>\n      <th></th>\n      <th></th>\n      <th></th>\n      <th></th>\n    </tr>\n  </thead>\n  <tbody>\n    <tr>\n      <th>prev_peak_nodrop_strategy</th>\n      <td>1.138225</td>\n      <td>2.26794</td>\n      <td>0.614679</td>\n      <td>1.113463</td>\n      <td>1.022363</td>\n      <td>1.211055</td>\n      <td>1.163116</td>\n      <td>1.280115</td>\n    </tr>\n  </tbody>\n</table>\n</div>"
     },
     "metadata": {},
     "execution_count": 4
    }
   ],
   "source": [
    "res.groupby('strategy').mean()"
   ]
  },
  {
   "cell_type": "code",
   "execution_count": 5,
   "metadata": {},
   "outputs": [
    {
     "output_type": "execute_result",
     "data": {
      "text/plain": [
       "strategy\n",
       "prev_peak_nodrop_strategy    1.22637\n",
       "dtype: float64"
      ]
     },
     "metadata": {},
     "execution_count": 5
    }
   ],
   "source": [
    "res.groupby('strategy').mean().mean(axis=1)"
   ]
  },
  {
   "cell_type": "code",
   "execution_count": null,
   "metadata": {},
   "outputs": [],
   "source": []
  }
 ],
 "metadata": {
  "kernelspec": {
   "display_name": "Python 3",
   "language": "python",
   "name": "python3"
  },
  "language_info": {
   "codemirror_mode": {
    "name": "ipython",
    "version": 3
   },
   "file_extension": ".py",
   "mimetype": "text/x-python",
   "name": "python",
   "nbconvert_exporter": "python",
   "pygments_lexer": "ipython3",
   "version": "3.8.6-final"
  }
 },
 "nbformat": 4,
 "nbformat_minor": 2
}