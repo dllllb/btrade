{
 "cells": [
  {
   "cell_type": "code",
   "execution_count": 7,
   "metadata": {},
   "outputs": [
    {
     "name": "stderr",
     "output_type": "stream",
     "text": [
      "100%|██████████| 50/50 [00:17<00:00,  2.94it/s]\n",
      "100%|██████████| 50/50 [02:01<00:00,  2.44s/it]\n",
      "100%|██████████| 50/50 [00:17<00:00,  2.91it/s]\n",
      "100%|██████████| 50/50 [01:59<00:00,  2.40s/it]\n",
      "100%|██████████| 50/50 [00:17<00:00,  2.92it/s]\n",
      "100%|██████████| 50/50 [02:01<00:00,  2.44s/it]       random_strategy-NVDA  random_strategy-BTC-USD\n",
      "count             50.000000                50.000000\n",
      "mean               1.896948                 1.943522\n",
      "std                0.885199                 1.559102\n",
      "min                0.682262                 0.315202\n",
      "25%                1.301815                 0.932930\n",
      "50%                1.742376                 1.605126\n",
      "75%                2.271191                 1.970469\n",
      "max                5.041753                 7.507821\n",
      "       buy_and_hold_strategy-NVDA  buy_and_hold_strategy-BTC-USD\n",
      "count                   50.000000                      50.000000\n",
      "mean                    15.678693                      14.772991\n",
      "std                      1.507230                       1.848961\n",
      "min                     12.020170                      10.870090\n",
      "25%                     15.117652                      14.038253\n",
      "50%                     15.880258                      14.965444\n",
      "75%                     16.785106                      15.833240\n",
      "max                     18.570889                      19.245260\n",
      "       simple_buy_sell_strategy-NVDA  simple_buy_sell_strategy-BTC-USD\n",
      "count                      50.000000                         50.000000\n",
      "mean                        3.038145                          0.765703\n",
      "std                         0.254780                          0.085063\n",
      "min                         2.416664                          0.568561\n",
      "25%                         2.923929                          0.734174\n",
      "50%                         3.203655                          0.782643\n",
      "75%                         3.203655                          0.828006\n",
      "max                         3.203655                          0.904682\n",
      "random_strategy-NVDA                 1.896948\n",
      "random_strategy-BTC-USD              1.943522\n",
      "buy_and_hold_strategy-NVDA          15.678693\n",
      "buy_and_hold_strategy-BTC-USD       14.772991\n",
      "simple_buy_sell_strategy-NVDA        3.038145\n",
      "simple_buy_sell_strategy-BTC-USD     0.765703\n",
      "dtype: float64\n",
      "random_strategy              1.920235\n",
      "buy_and_hold_strategy       15.225842\n",
      "simple_buy_sell_strategy     1.901924\n",
      "dtype: float64\n",
      "\n"
     ]
    }
   ],
   "source": [
    "from baselines import test_strategies, buy_and_hold_strategy, close_vs_sma_signal_strategy, random_strategy\n",
    "\n",
    "import pandas_datareader as pdr\n",
    "\n",
    "import requests_cache\n",
    "session = requests_cache.CachedSession(cache_name='stocks-cache', backend='sqlite')\n",
    "\n",
    "nvda = pdr.DataReader(\"NVDA\", start='1999-01-22', end='2020-05-01', data_source='yahoo', session=session)\n",
    "btc = pdr.DataReader(\"BTC-USD\", start='2010-07-16', end='2020-05-01', data_source='yahoo', session=session)\n",
    "\n",
    "test_strategies(\n",
    "    {\n",
    "        buy_and_hold_strategy,\n",
    "        close_vs_sma_signal_strategy,\n",
    "        random_strategy\n",
    "    },\n",
    "    {\n",
    "        'NVDA': nvda,\n",
    "        'BTC-USD': btc\n",
    "    },\n",
    "    from_date='2014-01-01',\n",
    "    to_date='2020-05-01',\n",
    "    n_steps=50,\n",
    "    step_size=1,\n",
    ")"
   ]
  },
  {
   "cell_type": "code",
   "execution_count": null,
   "metadata": {},
   "outputs": [],
   "source": []
  }
 ],
 "metadata": {
  "kernelspec": {
   "display_name": "Python 3",
   "language": "python",
   "name": "python3"
  },
  "language_info": {
   "codemirror_mode": {
    "name": "ipython",
    "version": 3
   },
   "file_extension": ".py",
   "mimetype": "text/x-python",
   "name": "python",
   "nbconvert_exporter": "python",
   "pygments_lexer": "ipython3",
   "version": "3.7.3"
  }
 },
 "nbformat": 4,
 "nbformat_minor": 2
}